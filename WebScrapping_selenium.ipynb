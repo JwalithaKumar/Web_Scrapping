{
 "cells": [
  {
   "cell_type": "code",
   "execution_count": 1,
   "id": "c6d3606e",
   "metadata": {},
   "outputs": [
    {
     "name": "stdout",
     "output_type": "stream",
     "text": [
      "Collecting selenium\n",
      "  Obtaining dependency information for selenium from https://files.pythonhosted.org/packages/97/e3/fd7272d6d2c49fd49a79a603cb28c8b5a71f8911861b4a0409b3c006a241/selenium-4.17.2-py3-none-any.whl.metadata\n",
      "  Using cached selenium-4.17.2-py3-none-any.whl.metadata (6.9 kB)\n",
      "Requirement already satisfied: urllib3[socks]<3,>=1.26 in d:\\jwalitha\\anaconda\\lib\\site-packages (from selenium) (1.26.16)\n",
      "Collecting trio~=0.17 (from selenium)\n",
      "  Obtaining dependency information for trio~=0.17 from https://files.pythonhosted.org/packages/14/fb/9299cf74953f473a15accfdbe2c15218e766bae8c796f2567c83bae03e98/trio-0.24.0-py3-none-any.whl.metadata\n",
      "  Using cached trio-0.24.0-py3-none-any.whl.metadata (4.9 kB)\n",
      "Collecting trio-websocket~=0.9 (from selenium)\n",
      "  Obtaining dependency information for trio-websocket~=0.9 from https://files.pythonhosted.org/packages/48/be/a9ae5f50cad5b6f85bd2574c2c923730098530096e170c1ce7452394d7aa/trio_websocket-0.11.1-py3-none-any.whl.metadata\n",
      "  Using cached trio_websocket-0.11.1-py3-none-any.whl.metadata (4.7 kB)\n",
      "Requirement already satisfied: certifi>=2021.10.8 in d:\\jwalitha\\anaconda\\lib\\site-packages (from selenium) (2023.7.22)\n",
      "Collecting typing_extensions>=4.9.0 (from selenium)\n",
      "  Obtaining dependency information for typing_extensions>=4.9.0 from https://files.pythonhosted.org/packages/b7/f4/6a90020cd2d93349b442bfcb657d0dc91eee65491600b2cb1d388bc98e6b/typing_extensions-4.9.0-py3-none-any.whl.metadata\n",
      "  Using cached typing_extensions-4.9.0-py3-none-any.whl.metadata (3.0 kB)\n",
      "Requirement already satisfied: attrs>=20.1.0 in d:\\jwalitha\\anaconda\\lib\\site-packages (from trio~=0.17->selenium) (22.1.0)\n",
      "Requirement already satisfied: sortedcontainers in d:\\jwalitha\\anaconda\\lib\\site-packages (from trio~=0.17->selenium) (2.4.0)\n",
      "Requirement already satisfied: idna in d:\\jwalitha\\anaconda\\lib\\site-packages (from trio~=0.17->selenium) (3.4)\n",
      "Collecting outcome (from trio~=0.17->selenium)\n",
      "  Obtaining dependency information for outcome from https://files.pythonhosted.org/packages/55/8b/5ab7257531a5d830fc8000c476e63c935488d74609b50f9384a643ec0a62/outcome-1.3.0.post0-py2.py3-none-any.whl.metadata\n",
      "  Using cached outcome-1.3.0.post0-py2.py3-none-any.whl.metadata (2.6 kB)\n",
      "Collecting sniffio>=1.3.0 (from trio~=0.17->selenium)\n",
      "  Using cached sniffio-1.3.0-py3-none-any.whl (10 kB)\n",
      "Requirement already satisfied: cffi>=1.14 in d:\\jwalitha\\anaconda\\lib\\site-packages (from trio~=0.17->selenium) (1.15.1)\n",
      "Collecting wsproto>=0.14 (from trio-websocket~=0.9->selenium)\n",
      "  Using cached wsproto-1.2.0-py3-none-any.whl (24 kB)\n",
      "Requirement already satisfied: PySocks!=1.5.7,<2.0,>=1.5.6 in d:\\jwalitha\\anaconda\\lib\\site-packages (from urllib3[socks]<3,>=1.26->selenium) (1.7.1)\n",
      "Requirement already satisfied: pycparser in d:\\jwalitha\\anaconda\\lib\\site-packages (from cffi>=1.14->trio~=0.17->selenium) (2.21)\n",
      "Collecting h11<1,>=0.9.0 (from wsproto>=0.14->trio-websocket~=0.9->selenium)\n",
      "  Using cached h11-0.14.0-py3-none-any.whl (58 kB)\n",
      "Using cached selenium-4.17.2-py3-none-any.whl (9.9 MB)\n",
      "Using cached trio-0.24.0-py3-none-any.whl (460 kB)\n",
      "Downloading trio_websocket-0.11.1-py3-none-any.whl (17 kB)\n",
      "Using cached typing_extensions-4.9.0-py3-none-any.whl (32 kB)\n",
      "Downloading outcome-1.3.0.post0-py2.py3-none-any.whl (10 kB)\n",
      "Installing collected packages: typing_extensions, sniffio, outcome, h11, wsproto, trio, trio-websocket, selenium\n",
      "  Attempting uninstall: typing_extensions\n",
      "    Found existing installation: typing_extensions 4.7.1\n",
      "    Uninstalling typing_extensions-4.7.1:\n",
      "      Successfully uninstalled typing_extensions-4.7.1\n",
      "  Attempting uninstall: sniffio\n",
      "    Found existing installation: sniffio 1.2.0\n",
      "    Uninstalling sniffio-1.2.0:\n",
      "      Successfully uninstalled sniffio-1.2.0\n",
      "Successfully installed h11-0.14.0 outcome-1.3.0.post0 selenium-4.17.2 sniffio-1.3.0 trio-0.24.0 trio-websocket-0.11.1 typing_extensions-4.9.0 wsproto-1.2.0\n",
      "Note: you may need to restart the kernel to use updated packages.\n"
     ]
    }
   ],
   "source": [
    "pip install selenium"
   ]
  },
  {
   "cell_type": "code",
   "execution_count": 8,
   "id": "46c38dcc",
   "metadata": {},
   "outputs": [
    {
     "name": "stdout",
     "output_type": "stream",
     "text": [
      "Collecting webdriver_manager\n",
      "  Obtaining dependency information for webdriver_manager from https://files.pythonhosted.org/packages/b1/51/b5c11cf739ac4eecde611794a0ec9df420d0239d51e73bc19eb44f02b48b/webdriver_manager-4.0.1-py2.py3-none-any.whl.metadata\n",
      "  Downloading webdriver_manager-4.0.1-py2.py3-none-any.whl.metadata (12 kB)\n",
      "Requirement already satisfied: requests in d:\\jwalitha\\anaconda\\lib\\site-packages (from webdriver_manager) (2.31.0)\n",
      "Requirement already satisfied: python-dotenv in d:\\jwalitha\\anaconda\\lib\\site-packages (from webdriver_manager) (0.21.0)\n",
      "Requirement already satisfied: packaging in d:\\jwalitha\\anaconda\\lib\\site-packages (from webdriver_manager) (23.1)\n",
      "Requirement already satisfied: charset-normalizer<4,>=2 in d:\\jwalitha\\anaconda\\lib\\site-packages (from requests->webdriver_manager) (2.0.4)\n",
      "Requirement already satisfied: idna<4,>=2.5 in d:\\jwalitha\\anaconda\\lib\\site-packages (from requests->webdriver_manager) (3.4)\n",
      "Requirement already satisfied: urllib3<3,>=1.21.1 in d:\\jwalitha\\anaconda\\lib\\site-packages (from requests->webdriver_manager) (1.26.16)\n",
      "Requirement already satisfied: certifi>=2017.4.17 in d:\\jwalitha\\anaconda\\lib\\site-packages (from requests->webdriver_manager) (2023.7.22)\n",
      "Downloading webdriver_manager-4.0.1-py2.py3-none-any.whl (27 kB)\n",
      "Installing collected packages: webdriver_manager\n",
      "Successfully installed webdriver_manager-4.0.1\n",
      "Note: you may need to restart the kernel to use updated packages.\n"
     ]
    }
   ],
   "source": [
    "pip install webdriver_manager"
   ]
  },
  {
   "cell_type": "code",
   "execution_count": 66,
   "id": "736a0441",
   "metadata": {},
   "outputs": [],
   "source": [
    "import pandas as pd"
   ]
  },
  {
   "cell_type": "code",
   "execution_count": 54,
   "id": "009e6168",
   "metadata": {},
   "outputs": [],
   "source": [
    "from selenium import webdriver\n",
    "from time import sleep\n",
    "from selenium.webdriver.chrome.options import Options\n",
    "from webdriver_manager.chrome import ChromeDriverManager\n",
    "from selenium.webdriver.common.by import By\n",
    "from selenium.webdriver.common.keys import Keys"
   ]
  },
  {
   "cell_type": "code",
   "execution_count": 55,
   "id": "8a47782d",
   "metadata": {},
   "outputs": [
    {
     "name": "stdout",
     "output_type": "stream",
     "text": [
      "chrome\n"
     ]
    }
   ],
   "source": [
    "# Define options and set browser capabilities\n",
    "options = webdriver.ChromeOptions()\n",
    "options.add_argument('--some-option')\n",
    "\n",
    "# Create WebDriver instance with options\n",
    "driver = webdriver.Chrome(options=options)\n",
    "\n",
    "# Access browser capabilities\n",
    "browser_name = options.to_capabilities()[\"browserName\"]\n",
    "print(browser_name)\n",
    "\n",
    "# Navigate to a website\n",
    "driver.get('https://www.amazon.in')\n",
    "\n"
   ]
  },
  {
   "cell_type": "code",
   "execution_count": 56,
   "id": "2057c6b6",
   "metadata": {},
   "outputs": [],
   "source": [
    "search = driver.find_element(By.ID,\"twotabsearchtextbox\")"
   ]
  },
  {
   "cell_type": "code",
   "execution_count": 57,
   "id": "57135f98",
   "metadata": {},
   "outputs": [],
   "source": [
    "search.send_keys(\"Dell laptops\")"
   ]
  },
  {
   "cell_type": "code",
   "execution_count": 58,
   "id": "e22e2bb2",
   "metadata": {},
   "outputs": [],
   "source": [
    "driver.find_element(By.ID,\"nav-search-submit-button\").click()"
   ]
  },
  {
   "cell_type": "code",
   "execution_count": 59,
   "id": "1b7811e8",
   "metadata": {},
   "outputs": [],
   "source": [
    "driver.find_element(By.XPATH,\"//span[text()='Dell']\").click()"
   ]
  },
  {
   "cell_type": "code",
   "execution_count": 61,
   "id": "bbc1db08",
   "metadata": {},
   "outputs": [],
   "source": [
    "laptop_name = []\n",
    "laptop_prices = []\n",
    "review = []"
   ]
  },
  {
   "cell_type": "code",
   "execution_count": 62,
   "id": "83e17e86",
   "metadata": {},
   "outputs": [
    {
     "name": "stdout",
     "output_type": "stream",
     "text": [
      "['Dell 14 Laptop, AMD Ryzen R5-5500U/ 8GB DDR4, 2400 MHz/ 512GB/ 14.0\" (35.56cm) FHD Display with Comfort View/Windows 11 + MSO\\'21/15 Month McAfee/Spill-Resistant Keyboard/Carbon Black/ 1.48kg', 'Dell Inspiron 3520 Laptop, Intel Core i5-1235U Processor, 16GB,512GB,15.6\" (39.62cm) FHD Display, Backlit Keyboard, Win 11 + MSO\\'21,15 Month McAfee, Silver, Thin & Light-1.65kg', 'Dell Inspiron 7430 2in1 Touch Laptop, 13th Gen Intel Core i3-1315U/8GB/1TB SSD/14.0\" (35.56cm) FHD+,16:10 Aspect Ratio/Backlit KB+FPR/Win 11+MSO\\'21/15 Months McAfee/Platinum Silver/Thin & Light-1.58kg', 'Dell 14 Laptop, 12th Gen Intel Core i3-1215U Processor/8GB/512GB SSD/Intel UHD Graphics/14.0\"(35.56cm) FHD/Windows 11 + MSO\\'21/15 Month McAfee/Spill-Resistant Keyboard/Grey/Thin & Light 1.48kg', 'Dell 14 Laptop, 12th Gen Intel Core i5-1235U Processor, 16GB, 512GB, 14.0\" (35.56cm) FHD Display, Windows 11 + MSO\\'21, Spill-Resistant Keyboard, 15 Month Mcafee, Black, Thin & Light- 1.48kg', 'Dell Inspiron 3535 Laptop, AMD 7 Series Ryzen 5-7520U Processor/8GB/512GB/15.6\" (39.62cm) FHD WVA AG 120Hz 250 nits Display/Win 11 + MSO\\'21/15 Month McAfee/Platinum Silver/1.63kg', 'Dell 15 Laptop, Intel Core i5-1135G7 Processor/ 8GB/ 1TB+256GB SSD/15.6\"(39.62cm) FHD Display/Mobile Connect/Windows 11 + MSO\\'21/15 Month McAfee/Spill-Resistant Keyboard/Black/Thin & Light 1.69kg', '(Renewed) DELL Latitude 5490 Core i5 8th Gen Laptop, 16 GB RAM, 512GB SSD, Intel HD Graphics, 14 inch (36.83 cms) HD Screen, Windows 11 (Upgraded), MS Office, Black, Slim', 'Dell Inspiron 3530 Laptop, 13th Gen Intel Core i5-1335U Processor/16GB/1TB SSD/15.6\" (39.62cm) FHD Display/Backlit Keyboard/Platinum Silver/Win 11 + MSO\\'21/15 Month McAfee/Thin & Light- 1.66kg', 'Dell 14 Laptop, Intel Core i5-1135G7 Processor/8GB/512GB/Intel UHD Graphic/14.0\" (35.6cm) FHD with Comfort View/Spill-Resistant Keyboard/Thin & Light 1.48kg/ Win 11+ MSO\\'21/15 Month McAfee/Titan Grey', 'Dell 15 Laptop, Intel Core i3-1115G4 Processor/8GB DDR4/512GB SSD/Intel UHD Graphics/15.6\" (39.6cm) FHD 120Hz Refresh, 250 nits/Mobile Connect/Win 11+MSO\\'21/15 Month McAfee/Black/Thin & Light-1.66kg', 'Dell Inspiron 5430 Laptop, 13th Gen Intel Core i7-1360P Processor/16GB/1TB SSD/14.0\" (35.56cm) FHD+ WVA 250 nits/Backlit KB + FPR/Win 11 + MSO\\'21/15 Month McAfee/Platinum Silver/Thin & Light- 1.59kg', 'Dell 14, Intel 12th Gen i5-1235U Laptop/8GB/512GB SSD/14.0\" (35.56cm) FHD TÃœV Rheinland Certified Comfortview to Reduce Harmful Blue Light Emission/Windows 11 + MSO\\'21/Black/15 Month McAfee,1.48kg', 'Dell G15 5520 Gaming Laptop, Intel i5-12500H/16GB DDR5/1TB SSD/15.6\" (39.62cm) FHD WVA AG 120Hz 250 nits/NVIDIA RTX 3050, 4 GB GDDR6/Win 11 + MSO\\'21/15 Months McAfee/Backlit KB/Dark Shadow Grey/2.81kg', '(Renewed) Dell Latitude Laptop E5470 Intel Core i5 6th Gen. - 6200u Processor, 8 GB Ram & 256 GB SSD, 14.1 Inches HD Screen Notebook Computer', 'Dell Inspiron 3530 Laptop, Intel Core i7-1355U Processor, 16GB, 512GB, 15.6\" (39.62cm) FHD WVA AG 120Hz, Backlit KB + FPR, Win 11 + MSO\\'21, 15 Month McAfee, Silver, 1.62kg', 'Dell G15-5520 Gaming Laptop, Intel Core i9-12900H Processor, 16GB DDR5/1TB SSD/NVIDIA RTX 3060 (6GB GDDR6)/15.6\" (39.62cm) FHD 165Hz 300 nits/Win 11 + MSO\\'21/15 Month McAfee/Dark Shadow Grey/2.81kg', 'Dell New 14\" Latitude 3420- i3 11th Gen || 8 GB || 512 GB SSD || 14\" Full HD 1920 x 1080 Pixels || Ubuntu-Dos || 1 Year Onsite with ADP Warranty', '(Renewed) DELL Latitude 5490 Core i5 7th Gen Laptop, 8 GB RAM, 512gb SSD, Intel HD Graphics, 14 inch (36.83 cms) HD Screen, Windows 11 (Upgraded), MS Office, Black, Slim', 'Dell Inspiron 3520 Laptop,12th Gen Intel Core i3-1215, Windows 11 + MSO\\'21, McAfee 15 Months, 8GB, 512GB SSD, 15.6\" (39.62Cms) 3 Sided Narrow Border Design with 120Hz FHD Display, Black, 1.65Kgs', 'Dell Inspiron 3520 Laptop, Intel Core i3-1215U Processor, 8GB & 256GB SSD, 15.6\" (39.62Cm) FHD WVA AG 120Hz 250 nits, Win 11 + MSO\\'21, Carbon Black, 15 Months McAfee, Thin & Light- 1.65KG', 'Dell Vostro 5620 Laptop, Intel Core i7-1260P Processor/ 16GB/ 512GB/ NVIDIA MX570 2GB GDDR6/ 16.0\" (40.64cm) FHD+ with 16:10 Aspect Ratio/Backlit KB + FPR/Win 11 + MSO\\'21/ Titan Grey/ 1.91kg', \"(Renewed) DELL LATITUDE 7490, Windows 10 Pro, Intel Core I5 8TH GEN/8GB/512GB SSD/WEBCAM/14'' (35 cm\", 'Dell Inspiron 7420 2in1 Laptop, Intel i7-1255U, 16GB DDR4 & 512GB SSD, Win 11 + MSO\\'21, NVIDIA MX550 (2GB GDDR6), 14.0\" (35.56Cms) FHD Touch 250 nits, 15 Month McAfee, Active Pen, Silver, 1.57Kgs']\n"
     ]
    }
   ],
   "source": [
    "names =driver.find_elements(By.XPATH,\".//span[@class='a-size-medium a-color-base a-text-normal']\")\n",
    "for i in names:\n",
    "    laptop_name.append(i.text)\n",
    "print(laptop_name)"
   ]
  },
  {
   "cell_type": "code",
   "execution_count": 63,
   "id": "0f36dab8",
   "metadata": {},
   "outputs": [
    {
     "name": "stdout",
     "output_type": "stream",
     "text": [
      "['35,990', '55,290', '57,990', '35,990', '49,990', '38,990', '44,990', '23,745', '67,490', '44,990', '33,990', '83,490', '46,990', '76,490', '19,999', '71,490', '1,24,990', '30,650', '20,999', '36,980', '34,380', '87,490', '23,000', '86,990']\n"
     ]
    }
   ],
   "source": [
    "prices= driver.find_elements(By.XPATH,\".//span[@class='a-price-whole']\")\n",
    "for j in prices:\n",
    "    laptop_prices.append(j.text)\n",
    "print(laptop_prices)"
   ]
  },
  {
   "cell_type": "code",
   "execution_count": 64,
   "id": "1fb25435",
   "metadata": {},
   "outputs": [
    {
     "name": "stdout",
     "output_type": "stream",
     "text": [
      "['4', '2', '178', '238', '72', '4', '602', '506', '11', '2', '630', '82', '136', '516', '1,532', '1', '31', '1', '176', '185', '195', '7', '76', '9']\n"
     ]
    }
   ],
   "source": [
    "reviews= driver.find_elements(By.XPATH,\".//span[@class='a-size-base s-underline-text']\")\n",
    "for k in reviews:\n",
    "    review.append(k.text)\n",
    "print(review)"
   ]
  },
  {
   "cell_type": "code",
   "execution_count": 65,
   "id": "1aabe8c5",
   "metadata": {},
   "outputs": [
    {
     "name": "stdout",
     "output_type": "stream",
     "text": [
      "Laptops:  24\n",
      "Prices:  24\n",
      "Laptops:  24\n"
     ]
    }
   ],
   "source": [
    "print(\"Laptops: \",len(laptop_name))\n",
    "print(\"Prices: \",len(laptop_prices))\n",
    "print(\"Laptops: \",len(review))"
   ]
  },
  {
   "cell_type": "code",
   "execution_count": 72,
   "id": "31aa9a88",
   "metadata": {},
   "outputs": [],
   "source": [
    "df = pd.DataFrame(columns = ['Laptop name','Prices','Reviews'])"
   ]
  },
  {
   "cell_type": "code",
   "execution_count": 73,
   "id": "09ba4884",
   "metadata": {},
   "outputs": [
    {
     "name": "stdout",
     "output_type": "stream",
     "text": [
      "Empty DataFrame\n",
      "Columns: [Laptop name, Prices, Reviews]\n",
      "Index: []\n"
     ]
    }
   ],
   "source": [
    "print(df)"
   ]
  },
  {
   "cell_type": "code",
   "execution_count": 76,
   "id": "4d27787d",
   "metadata": {},
   "outputs": [],
   "source": [
    "df['Laptop name']= laptop_name\n",
    "df['Prices'] = laptop_prices\n",
    "df['Reviews'] = review"
   ]
  },
  {
   "cell_type": "code",
   "execution_count": 77,
   "id": "2d131eb6",
   "metadata": {},
   "outputs": [
    {
     "name": "stdout",
     "output_type": "stream",
     "text": [
      "                                          Laptop name    Prices Reviews\n",
      "0   Dell 14 Laptop, AMD Ryzen R5-5500U/ 8GB DDR4, ...    35,990       4\n",
      "1   Dell Inspiron 3520 Laptop, Intel Core i5-1235U...    55,290       2\n",
      "2   Dell Inspiron 7430 2in1 Touch Laptop, 13th Gen...    57,990     178\n",
      "3   Dell 14 Laptop, 12th Gen Intel Core i3-1215U P...    35,990     238\n",
      "4   Dell 14 Laptop, 12th Gen Intel Core i5-1235U P...    49,990      72\n",
      "5   Dell Inspiron 3535 Laptop, AMD 7 Series Ryzen ...    38,990       4\n",
      "6   Dell 15 Laptop, Intel Core i5-1135G7 Processor...    44,990     602\n",
      "7   (Renewed) DELL Latitude 5490 Core i5 8th Gen L...    23,745     506\n",
      "8   Dell Inspiron 3530 Laptop, 13th Gen Intel Core...    67,490      11\n",
      "9   Dell 14 Laptop, Intel Core i5-1135G7 Processor...    44,990       2\n",
      "10  Dell 15 Laptop, Intel Core i3-1115G4 Processor...    33,990     630\n",
      "11  Dell Inspiron 5430 Laptop, 13th Gen Intel Core...    83,490      82\n",
      "12  Dell 14, Intel 12th Gen i5-1235U Laptop/8GB/51...    46,990     136\n",
      "13  Dell G15 5520 Gaming Laptop, Intel i5-12500H/1...    76,490     516\n",
      "14  (Renewed) Dell Latitude Laptop E5470 Intel Cor...    19,999   1,532\n",
      "15  Dell Inspiron 3530 Laptop, Intel Core i7-1355U...    71,490       1\n",
      "16  Dell G15-5520 Gaming Laptop, Intel Core i9-129...  1,24,990      31\n",
      "17  Dell New 14\" Latitude 3420- i3 11th Gen || 8 G...    30,650       1\n",
      "18  (Renewed) DELL Latitude 5490 Core i5 7th Gen L...    20,999     176\n",
      "19  Dell Inspiron 3520 Laptop,12th Gen Intel Core ...    36,980     185\n",
      "20  Dell Inspiron 3520 Laptop, Intel Core i3-1215U...    34,380     195\n",
      "21  Dell Vostro 5620 Laptop, Intel Core i7-1260P P...    87,490       7\n",
      "22  (Renewed) DELL LATITUDE 7490, Windows 10 Pro, ...    23,000      76\n",
      "23  Dell Inspiron 7420 2in1 Laptop, Intel i7-1255U...    86,990       9\n"
     ]
    }
   ],
   "source": [
    "print(df)"
   ]
  },
  {
   "cell_type": "code",
   "execution_count": 78,
   "id": "314b3a87",
   "metadata": {},
   "outputs": [],
   "source": [
    "df.to_csv(\"Dell_data.csv\")"
   ]
  },
  {
   "cell_type": "code",
   "execution_count": null,
   "id": "228eb285",
   "metadata": {},
   "outputs": [],
   "source": []
  }
 ],
 "metadata": {
  "kernelspec": {
   "display_name": "Python 3 (ipykernel)",
   "language": "python",
   "name": "python3"
  },
  "language_info": {
   "codemirror_mode": {
    "name": "ipython",
    "version": 3
   },
   "file_extension": ".py",
   "mimetype": "text/x-python",
   "name": "python",
   "nbconvert_exporter": "python",
   "pygments_lexer": "ipython3",
   "version": "3.11.5"
  }
 },
 "nbformat": 4,
 "nbformat_minor": 5
}
